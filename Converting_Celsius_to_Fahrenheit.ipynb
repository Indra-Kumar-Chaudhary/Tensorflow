{
 "cells": [
  {
   "cell_type": "markdown",
   "metadata": {},
   "source": [
    "<h1>Converting Celsius to Fahrenheit</h1>"
   ]
  },
  {
   "cell_type": "code",
   "execution_count": 1,
   "metadata": {},
   "outputs": [],
   "source": [
    "# 1. Import dependencies\n"
   ]
  },
  {
   "cell_type": "markdown",
   "metadata": {},
   "source": [
    "<p>\n",
    "First import TensorFlow. Here, we are calling it tf for ease of use. We also tell it to only display errors.\n",
    "Next, import numpy as np. Numpy helps us to represent our data as highly performants lists\n",
    "</p>"
   ]
  },
  {
   "cell_type": "code",
   "execution_count": 5,
   "metadata": {},
   "outputs": [],
   "source": [
    "import tensorflow as  tf\n",
    "tf.logging.set_verbosity(tf.logging.ERROR)\n",
    "import numpy as np"
   ]
  },
  {
   "cell_type": "markdown",
   "metadata": {},
   "source": [
    "<h1>Set up training data</h1>"
   ]
  },
  {
   "cell_type": "markdown",
   "metadata": {},
   "source": [
    "<p>\n",
    "As we saw before, supervised machine learning is all about figurig out an algorithm given a set of inputs and outputs\n",
    "</p>"
   ]
  },
  {
   "cell_type": "markdown",
   "metadata": {},
   "source": [
    "<p> To create a model that can give the temperature in Fahrenheit when given the degrees in celsius, we create two lists\n",
    "celsius_q and fahrenheit_a that we can use to train our model.\n",
    "</p>"
   ]
  },
  {
   "cell_type": "code",
   "execution_count": 7,
   "metadata": {},
   "outputs": [
    {
     "name": "stdout",
     "output_type": "stream",
     "text": [
      "-40.0 degrees Celsius =-40.0 degrees Fahrenhet\n",
      "-10.0 degrees Celsius =14.0 degrees Fahrenhet\n",
      "0.0 degrees Celsius =32.0 degrees Fahrenhet\n",
      "8.0 degrees Celsius =46.0 degrees Fahrenhet\n",
      "15.0 degrees Celsius =59.0 degrees Fahrenhet\n",
      "22.0 degrees Celsius =72.0 degrees Fahrenhet\n",
      "38.0 degrees Celsius =100.0 degrees Fahrenhet\n"
     ]
    }
   ],
   "source": [
    "celsius_q = np.array([-40,-10,0,8,15,22,38], dtype=float)\n",
    "fahrenheit_a = np.array([-40,14,32,46,59,72,100],dtype=float)\n",
    "\n",
    "for i,c in enumerate(celsius_q):\n",
    "    print(\"{} degrees Celsius ={} degrees Fahrenhet\".format(c, fahrenheit_a[i]))"
   ]
  },
  {
   "cell_type": "code",
   "execution_count": null,
   "metadata": {},
   "outputs": [],
   "source": []
  }
 ],
 "metadata": {
  "kernelspec": {
   "display_name": "Python 3",
   "language": "python",
   "name": "python3"
  },
  "language_info": {
   "codemirror_mode": {
    "name": "ipython",
    "version": 3
   },
   "file_extension": ".py",
   "mimetype": "text/x-python",
   "name": "python",
   "nbconvert_exporter": "python",
   "pygments_lexer": "ipython3",
   "version": "3.6.8"
  }
 },
 "nbformat": 4,
 "nbformat_minor": 2
}
